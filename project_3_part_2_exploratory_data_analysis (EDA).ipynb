{
 "cells": [
  {
   "cell_type": "markdown",
   "id": "0d5feb59",
   "metadata": {},
   "source": [
    "# Project 3 Part 2 - Exploratory Data Analysis (EDA)"
   ]
  },
  {
   "cell_type": "code",
   "execution_count": 3,
   "id": "459821b5",
   "metadata": {},
   "outputs": [],
   "source": [
    "import pandas as pd"
   ]
  },
  {
   "cell_type": "code",
   "execution_count": 4,
   "id": "f8b3ea01",
   "metadata": {},
   "outputs": [],
   "source": [
    "# Load the CSV files for each year's movie data\n",
    "data_file_paths = [\"movie_results/movie_data_2000.csv.gz\", \"movie_results/movie_data_2001.csv.gz\"]\n",
    "dataframes = []"
   ]
  },
  {
   "cell_type": "code",
   "execution_count": 6,
   "id": "47a5fe1e",
   "metadata": {},
   "outputs": [],
   "source": [
    "for file_path in data_file_paths:\n",
    "    df = pd.read_csv(file_path, sep='\\t', compression='gzip')\n",
    "    dataframes.append(df)"
   ]
  },
  {
   "cell_type": "code",
   "execution_count": 7,
   "id": "df7b2ab0",
   "metadata": {},
   "outputs": [],
   "source": [
    "# Concatenate the data from both years into one DataFrame\n",
    "all_movie_data = pd.concat(dataframes, ignore_index=True)"
   ]
  },
  {
   "cell_type": "code",
   "execution_count": 8,
   "id": "0f0e9dac",
   "metadata": {},
   "outputs": [],
   "source": [
    "# Filter out movies with 0 values for both budget and revenue\n",
    "valid_financial_data = all_movie_data[(all_movie_data['budget'] > 0) | (all_movie_data['revenue'] > 0)]"
   ]
  },
  {
   "cell_type": "code",
   "execution_count": 9,
   "id": "8a097312",
   "metadata": {},
   "outputs": [],
   "source": [
    "# Calculate the number of movies with valid financial information\n",
    "num_movies_with_financial_info = len(valid_financial_data)"
   ]
  },
  {
   "cell_type": "code",
   "execution_count": 10,
   "id": "a1007888",
   "metadata": {},
   "outputs": [],
   "source": [
    "# Count the number of movies in each certification category\n",
    "certification_counts = valid_financial_data['certification'].value_counts()"
   ]
  },
  {
   "cell_type": "code",
   "execution_count": 11,
   "id": "e06f2277",
   "metadata": {},
   "outputs": [],
   "source": [
    "# Calculate the average revenue and budget per certification category\n",
    "average_revenue_per_certification = valid_financial_data.groupby('certification')['revenue'].mean()\n",
    "average_budget_per_certification = valid_financial_data.groupby('certification')['budget'].mean()"
   ]
  },
  {
   "cell_type": "code",
   "execution_count": 12,
   "id": "7d1c168d",
   "metadata": {},
   "outputs": [
    {
     "name": "stdout",
     "output_type": "stream",
     "text": [
      "Number of movies with valid financial information: 1294\n",
      "Number of movies in each certification category:\n",
      "R        448\n",
      "PG-13    266\n",
      "PG        70\n",
      "NR        44\n",
      "G         28\n",
      "Name: certification, dtype: int64\n",
      "Average revenue per certification category:\n",
      "certification\n",
      "G        1.126328e+08\n",
      "NR       1.606649e+07\n",
      "PG       1.069017e+08\n",
      "PG-13    9.833302e+07\n",
      "R        3.023678e+07\n",
      "Name: revenue, dtype: float64\n",
      "Average budget per certification category:\n",
      "certification\n",
      "G        3.478571e+07\n",
      "NR       8.794413e+06\n",
      "PG       4.442849e+07\n",
      "PG-13    4.310882e+07\n",
      "R        1.819752e+07\n",
      "Name: budget, dtype: float64\n"
     ]
    }
   ],
   "source": [
    "# Print the results\n",
    "print(\"Number of movies with valid financial information:\", num_movies_with_financial_info)\n",
    "print(\"Number of movies in each certification category:\")\n",
    "print(certification_counts)\n",
    "print(\"Average revenue per certification category:\")\n",
    "print(average_revenue_per_certification)\n",
    "print(\"Average budget per certification category:\")\n",
    "print(average_budget_per_certification)"
   ]
  },
  {
   "cell_type": "code",
   "execution_count": 14,
   "id": "c268c5fe",
   "metadata": {},
   "outputs": [],
   "source": [
    "# Specify the file path for the final merged CSV file\n",
    "output_file = \"/Users/MiPillay1/OneDrive - MMI HOLDINGS LTD/Documents/GitHub/Project_3-Data_Enrichment/movie_results/tmdb_results_combined.csv.gz\"\n",
    "\n",
    "# Save the DataFrame to a compressed CSV file\n",
    "all_movie_data.to_csv(output_file, sep='\\t', compression='gzip', index=False)"
   ]
  },
  {
   "cell_type": "code",
   "execution_count": null,
   "id": "64ab66b8",
   "metadata": {},
   "outputs": [],
   "source": []
  }
 ],
 "metadata": {
  "kernelspec": {
   "display_name": "Python (dojo-env)",
   "language": "python",
   "name": "dojo-env"
  },
  "language_info": {
   "codemirror_mode": {
    "name": "ipython",
    "version": 3
   },
   "file_extension": ".py",
   "mimetype": "text/x-python",
   "name": "python",
   "nbconvert_exporter": "python",
   "pygments_lexer": "ipython3",
   "version": "3.10.10"
  }
 },
 "nbformat": 4,
 "nbformat_minor": 5
}
