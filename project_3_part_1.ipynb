{
 "cells": [
  {
   "cell_type": "code",
   "execution_count": 2,
   "id": "5dd8c77f",
   "metadata": {},
   "outputs": [],
   "source": [
    "import pandas as pd\n",
    "import requests\n",
    "from io import BytesIO\n",
    "import gzip"
   ]
  },
  {
   "cell_type": "code",
   "execution_count": 13,
   "id": "848d985a",
   "metadata": {},
   "outputs": [],
   "source": [
    "title_basics = pd.read_csv(\"C:/Users/MiPillay1/OneDrive - MMI HOLDINGS LTD/Documents/GitHub/Project_3-Data_Enrichment/Data/title.basics.tsv.gz\", sep='\\t', low_memory=False)"
   ]
  },
  {
   "cell_type": "code",
   "execution_count": 6,
   "id": "aa70ed41",
   "metadata": {},
   "outputs": [],
   "source": [
    "title_ratings = pd.read_csv(\"C:/Users/MiPillay1/OneDrive - MMI HOLDINGS LTD/Documents/GitHub/Project_3-Data_Enrichment/Data/title.ratings.tsv.gz\", sep='\\t', low_memory=False)"
   ]
  },
  {
   "cell_type": "code",
   "execution_count": 8,
   "id": "79adc84a",
   "metadata": {},
   "outputs": [],
   "source": [
    "title_akas = pd.read_csv(\"C:/Users/MiPillay1/OneDrive - MMI HOLDINGS LTD/Documents/GitHub/Project_3-Data_Enrichment/Data/title.akas.tsv.gz\", sep='\\t', low_memory=False)"
   ]
  },
  {
   "cell_type": "code",
   "execution_count": 14,
   "id": "8c6c2d43",
   "metadata": {},
   "outputs": [
    {
     "data": {
      "text/html": [
       "<div>\n",
       "<style scoped>\n",
       "    .dataframe tbody tr th:only-of-type {\n",
       "        vertical-align: middle;\n",
       "    }\n",
       "\n",
       "    .dataframe tbody tr th {\n",
       "        vertical-align: top;\n",
       "    }\n",
       "\n",
       "    .dataframe thead th {\n",
       "        text-align: right;\n",
       "    }\n",
       "</style>\n",
       "<table border=\"1\" class=\"dataframe\">\n",
       "  <thead>\n",
       "    <tr style=\"text-align: right;\">\n",
       "      <th></th>\n",
       "      <th>tconst</th>\n",
       "      <th>titleType</th>\n",
       "      <th>primaryTitle</th>\n",
       "      <th>originalTitle</th>\n",
       "      <th>isAdult</th>\n",
       "      <th>startYear</th>\n",
       "      <th>endYear</th>\n",
       "      <th>runtimeMinutes</th>\n",
       "      <th>genres</th>\n",
       "    </tr>\n",
       "  </thead>\n",
       "  <tbody>\n",
       "    <tr>\n",
       "      <th>0</th>\n",
       "      <td>tt0000001</td>\n",
       "      <td>short</td>\n",
       "      <td>Carmencita</td>\n",
       "      <td>Carmencita</td>\n",
       "      <td>0</td>\n",
       "      <td>1894</td>\n",
       "      <td>\\N</td>\n",
       "      <td>1</td>\n",
       "      <td>Documentary,Short</td>\n",
       "    </tr>\n",
       "    <tr>\n",
       "      <th>1</th>\n",
       "      <td>tt0000002</td>\n",
       "      <td>short</td>\n",
       "      <td>Le clown et ses chiens</td>\n",
       "      <td>Le clown et ses chiens</td>\n",
       "      <td>0</td>\n",
       "      <td>1892</td>\n",
       "      <td>\\N</td>\n",
       "      <td>5</td>\n",
       "      <td>Animation,Short</td>\n",
       "    </tr>\n",
       "    <tr>\n",
       "      <th>2</th>\n",
       "      <td>tt0000003</td>\n",
       "      <td>short</td>\n",
       "      <td>Pauvre Pierrot</td>\n",
       "      <td>Pauvre Pierrot</td>\n",
       "      <td>0</td>\n",
       "      <td>1892</td>\n",
       "      <td>\\N</td>\n",
       "      <td>4</td>\n",
       "      <td>Animation,Comedy,Romance</td>\n",
       "    </tr>\n",
       "    <tr>\n",
       "      <th>3</th>\n",
       "      <td>tt0000004</td>\n",
       "      <td>short</td>\n",
       "      <td>Un bon bock</td>\n",
       "      <td>Un bon bock</td>\n",
       "      <td>0</td>\n",
       "      <td>1892</td>\n",
       "      <td>\\N</td>\n",
       "      <td>12</td>\n",
       "      <td>Animation,Short</td>\n",
       "    </tr>\n",
       "    <tr>\n",
       "      <th>4</th>\n",
       "      <td>tt0000005</td>\n",
       "      <td>short</td>\n",
       "      <td>Blacksmith Scene</td>\n",
       "      <td>Blacksmith Scene</td>\n",
       "      <td>0</td>\n",
       "      <td>1893</td>\n",
       "      <td>\\N</td>\n",
       "      <td>1</td>\n",
       "      <td>Comedy,Short</td>\n",
       "    </tr>\n",
       "  </tbody>\n",
       "</table>\n",
       "</div>"
      ],
      "text/plain": [
       "      tconst titleType            primaryTitle           originalTitle  \\\n",
       "0  tt0000001     short              Carmencita              Carmencita   \n",
       "1  tt0000002     short  Le clown et ses chiens  Le clown et ses chiens   \n",
       "2  tt0000003     short          Pauvre Pierrot          Pauvre Pierrot   \n",
       "3  tt0000004     short             Un bon bock             Un bon bock   \n",
       "4  tt0000005     short        Blacksmith Scene        Blacksmith Scene   \n",
       "\n",
       "  isAdult startYear endYear runtimeMinutes                    genres  \n",
       "0       0      1894      \\N              1         Documentary,Short  \n",
       "1       0      1892      \\N              5           Animation,Short  \n",
       "2       0      1892      \\N              4  Animation,Comedy,Romance  \n",
       "3       0      1892      \\N             12           Animation,Short  \n",
       "4       0      1893      \\N              1              Comedy,Short  "
      ]
     },
     "execution_count": 14,
     "metadata": {},
     "output_type": "execute_result"
    }
   ],
   "source": [
    "title_basics.head()"
   ]
  },
  {
   "cell_type": "code",
   "execution_count": 15,
   "id": "336a0f04",
   "metadata": {},
   "outputs": [
    {
     "name": "stdout",
     "output_type": "stream",
     "text": [
      "<class 'pandas.core.frame.DataFrame'>\n",
      "RangeIndex: 10248781 entries, 0 to 10248780\n",
      "Data columns (total 9 columns):\n",
      " #   Column          Dtype \n",
      "---  ------          ----- \n",
      " 0   tconst          object\n",
      " 1   titleType       object\n",
      " 2   primaryTitle    object\n",
      " 3   originalTitle   object\n",
      " 4   isAdult         object\n",
      " 5   startYear       object\n",
      " 6   endYear         object\n",
      " 7   runtimeMinutes  object\n",
      " 8   genres          object\n",
      "dtypes: object(9)\n",
      "memory usage: 703.7+ MB\n"
     ]
    }
   ],
   "source": [
    "title_basics.info()"
   ]
  },
  {
   "cell_type": "code",
   "execution_count": 7,
   "id": "4ad55447",
   "metadata": {},
   "outputs": [
    {
     "data": {
      "text/html": [
       "<div>\n",
       "<style scoped>\n",
       "    .dataframe tbody tr th:only-of-type {\n",
       "        vertical-align: middle;\n",
       "    }\n",
       "\n",
       "    .dataframe tbody tr th {\n",
       "        vertical-align: top;\n",
       "    }\n",
       "\n",
       "    .dataframe thead th {\n",
       "        text-align: right;\n",
       "    }\n",
       "</style>\n",
       "<table border=\"1\" class=\"dataframe\">\n",
       "  <thead>\n",
       "    <tr style=\"text-align: right;\">\n",
       "      <th></th>\n",
       "      <th>tconst</th>\n",
       "      <th>averageRating</th>\n",
       "      <th>numVotes</th>\n",
       "    </tr>\n",
       "  </thead>\n",
       "  <tbody>\n",
       "    <tr>\n",
       "      <th>0</th>\n",
       "      <td>tt0000001</td>\n",
       "      <td>5.7</td>\n",
       "      <td>2002</td>\n",
       "    </tr>\n",
       "    <tr>\n",
       "      <th>1</th>\n",
       "      <td>tt0000002</td>\n",
       "      <td>5.8</td>\n",
       "      <td>269</td>\n",
       "    </tr>\n",
       "    <tr>\n",
       "      <th>2</th>\n",
       "      <td>tt0000003</td>\n",
       "      <td>6.5</td>\n",
       "      <td>1893</td>\n",
       "    </tr>\n",
       "    <tr>\n",
       "      <th>3</th>\n",
       "      <td>tt0000004</td>\n",
       "      <td>5.5</td>\n",
       "      <td>178</td>\n",
       "    </tr>\n",
       "    <tr>\n",
       "      <th>4</th>\n",
       "      <td>tt0000005</td>\n",
       "      <td>6.2</td>\n",
       "      <td>2678</td>\n",
       "    </tr>\n",
       "  </tbody>\n",
       "</table>\n",
       "</div>"
      ],
      "text/plain": [
       "      tconst  averageRating  numVotes\n",
       "0  tt0000001            5.7      2002\n",
       "1  tt0000002            5.8       269\n",
       "2  tt0000003            6.5      1893\n",
       "3  tt0000004            5.5       178\n",
       "4  tt0000005            6.2      2678"
      ]
     },
     "execution_count": 7,
     "metadata": {},
     "output_type": "execute_result"
    }
   ],
   "source": [
    "title_ratings.head()"
   ]
  },
  {
   "cell_type": "code",
   "execution_count": 12,
   "id": "158356e1",
   "metadata": {},
   "outputs": [
    {
     "name": "stdout",
     "output_type": "stream",
     "text": [
      "<class 'pandas.core.frame.DataFrame'>\n",
      "RangeIndex: 1360168 entries, 0 to 1360167\n",
      "Data columns (total 3 columns):\n",
      " #   Column         Non-Null Count    Dtype  \n",
      "---  ------         --------------    -----  \n",
      " 0   tconst         1360168 non-null  object \n",
      " 1   averageRating  1360168 non-null  float64\n",
      " 2   numVotes       1360168 non-null  int64  \n",
      "dtypes: float64(1), int64(1), object(1)\n",
      "memory usage: 31.1+ MB\n"
     ]
    }
   ],
   "source": [
    "title_ratings.info()"
   ]
  },
  {
   "cell_type": "code",
   "execution_count": 9,
   "id": "e65a87db",
   "metadata": {},
   "outputs": [
    {
     "data": {
      "text/html": [
       "<div>\n",
       "<style scoped>\n",
       "    .dataframe tbody tr th:only-of-type {\n",
       "        vertical-align: middle;\n",
       "    }\n",
       "\n",
       "    .dataframe tbody tr th {\n",
       "        vertical-align: top;\n",
       "    }\n",
       "\n",
       "    .dataframe thead th {\n",
       "        text-align: right;\n",
       "    }\n",
       "</style>\n",
       "<table border=\"1\" class=\"dataframe\">\n",
       "  <thead>\n",
       "    <tr style=\"text-align: right;\">\n",
       "      <th></th>\n",
       "      <th>titleId</th>\n",
       "      <th>ordering</th>\n",
       "      <th>title</th>\n",
       "      <th>region</th>\n",
       "      <th>language</th>\n",
       "      <th>types</th>\n",
       "      <th>attributes</th>\n",
       "      <th>isOriginalTitle</th>\n",
       "    </tr>\n",
       "  </thead>\n",
       "  <tbody>\n",
       "    <tr>\n",
       "      <th>0</th>\n",
       "      <td>tt0000001</td>\n",
       "      <td>1</td>\n",
       "      <td>Карменсіта</td>\n",
       "      <td>UA</td>\n",
       "      <td>\\N</td>\n",
       "      <td>imdbDisplay</td>\n",
       "      <td>\\N</td>\n",
       "      <td>0</td>\n",
       "    </tr>\n",
       "    <tr>\n",
       "      <th>1</th>\n",
       "      <td>tt0000001</td>\n",
       "      <td>2</td>\n",
       "      <td>Carmencita</td>\n",
       "      <td>DE</td>\n",
       "      <td>\\N</td>\n",
       "      <td>\\N</td>\n",
       "      <td>literal title</td>\n",
       "      <td>0</td>\n",
       "    </tr>\n",
       "    <tr>\n",
       "      <th>2</th>\n",
       "      <td>tt0000001</td>\n",
       "      <td>3</td>\n",
       "      <td>Carmencita - spanyol tánc</td>\n",
       "      <td>HU</td>\n",
       "      <td>\\N</td>\n",
       "      <td>imdbDisplay</td>\n",
       "      <td>\\N</td>\n",
       "      <td>0</td>\n",
       "    </tr>\n",
       "    <tr>\n",
       "      <th>3</th>\n",
       "      <td>tt0000001</td>\n",
       "      <td>4</td>\n",
       "      <td>Καρμενσίτα</td>\n",
       "      <td>GR</td>\n",
       "      <td>\\N</td>\n",
       "      <td>imdbDisplay</td>\n",
       "      <td>\\N</td>\n",
       "      <td>0</td>\n",
       "    </tr>\n",
       "    <tr>\n",
       "      <th>4</th>\n",
       "      <td>tt0000001</td>\n",
       "      <td>5</td>\n",
       "      <td>Карменсита</td>\n",
       "      <td>RU</td>\n",
       "      <td>\\N</td>\n",
       "      <td>imdbDisplay</td>\n",
       "      <td>\\N</td>\n",
       "      <td>0</td>\n",
       "    </tr>\n",
       "  </tbody>\n",
       "</table>\n",
       "</div>"
      ],
      "text/plain": [
       "     titleId  ordering                      title region language  \\\n",
       "0  tt0000001         1                 Карменсіта     UA       \\N   \n",
       "1  tt0000001         2                 Carmencita     DE       \\N   \n",
       "2  tt0000001         3  Carmencita - spanyol tánc     HU       \\N   \n",
       "3  tt0000001         4                 Καρμενσίτα     GR       \\N   \n",
       "4  tt0000001         5                 Карменсита     RU       \\N   \n",
       "\n",
       "         types     attributes isOriginalTitle  \n",
       "0  imdbDisplay             \\N               0  \n",
       "1           \\N  literal title               0  \n",
       "2  imdbDisplay             \\N               0  \n",
       "3  imdbDisplay             \\N               0  \n",
       "4  imdbDisplay             \\N               0  "
      ]
     },
     "execution_count": 9,
     "metadata": {},
     "output_type": "execute_result"
    }
   ],
   "source": [
    "title_akas.head()"
   ]
  },
  {
   "cell_type": "code",
   "execution_count": 11,
   "id": "9e1e32bd",
   "metadata": {},
   "outputs": [
    {
     "name": "stdout",
     "output_type": "stream",
     "text": [
      "<class 'pandas.core.frame.DataFrame'>\n",
      "RangeIndex: 37517220 entries, 0 to 37517219\n",
      "Data columns (total 8 columns):\n",
      " #   Column           Dtype \n",
      "---  ------           ----- \n",
      " 0   titleId          object\n",
      " 1   ordering         int64 \n",
      " 2   title            object\n",
      " 3   region           object\n",
      " 4   language         object\n",
      " 5   types            object\n",
      " 6   attributes       object\n",
      " 7   isOriginalTitle  object\n",
      "dtypes: int64(1), object(7)\n",
      "memory usage: 2.2+ GB\n"
     ]
    }
   ],
   "source": [
    "title_akas.info()"
   ]
  },
  {
   "cell_type": "code",
   "execution_count": 21,
   "id": "46804182",
   "metadata": {},
   "outputs": [],
   "source": [
    "# Filter movies based on the specified requirements\n",
    "# 1. Exclude any movie with missing values for genre or runtime\n",
    "title_basics = title_basics.dropna(subset=['genres', 'runtimeMinutes'])"
   ]
  },
  {
   "cell_type": "code",
   "execution_count": 22,
   "id": "7f0d17c4",
   "metadata": {},
   "outputs": [],
   "source": [
    "# 2. Include only full-length movies (titleType = \"movie\")\n",
    "title_basics = title_basics[title_basics['titleType'] == 'movie']"
   ]
  },
  {
   "cell_type": "code",
   "execution_count": 23,
   "id": "044602c5",
   "metadata": {},
   "outputs": [],
   "source": [
    "# 3. Include only fictional movies (not from documentary genre)\n",
    "title_basics = title_basics[~title_basics['genres'].str.contains('Documentary', case=False, na=False)]"
   ]
  },
  {
   "cell_type": "code",
   "execution_count": 24,
   "id": "37c1cc61",
   "metadata": {},
   "outputs": [],
   "source": [
    "# 4. Include only movies that were released 2000 - 2021 (include 2000 and 2021)\n",
    "title_basics['startYear'] = pd.to_numeric(title_basics['startYear'], errors='coerce')\n",
    "title_basics = title_basics[(title_basics['startYear'] >= 2000) & (title_basics['startYear'] <= 2021)]\n",
    "# 5. Include only movies that were released in the United States\n",
    "title_akas = title_akas[title_akas['region'] == 'US']\n",
    "us_movie_ids = title_akas['titleId'].unique()\n",
    "title_basics = title_basics[title_basics['tconst'].isin(us_movie_ids)]"
   ]
  },
  {
   "cell_type": "code",
   "execution_count": 25,
   "id": "c1e2c8e0",
   "metadata": {},
   "outputs": [
    {
     "name": "stdout",
     "output_type": "stream",
     "text": [
      "Number of movies after filtering: 97815\n",
      "Title Basics Info:\n",
      "<class 'pandas.core.frame.DataFrame'>\n",
      "Int64Index: 97815 entries, 34800 to 10248579\n",
      "Data columns (total 9 columns):\n",
      " #   Column          Non-Null Count  Dtype  \n",
      "---  ------          --------------  -----  \n",
      " 0   tconst          97815 non-null  object \n",
      " 1   titleType       97815 non-null  object \n",
      " 2   primaryTitle    97815 non-null  object \n",
      " 3   originalTitle   97815 non-null  object \n",
      " 4   isAdult         97815 non-null  object \n",
      " 5   startYear       97815 non-null  float64\n",
      " 6   endYear         97815 non-null  object \n",
      " 7   runtimeMinutes  97815 non-null  object \n",
      " 8   genres          97815 non-null  object \n",
      "dtypes: float64(1), object(8)\n",
      "memory usage: 7.5+ MB\n",
      "None\n"
     ]
    }
   ],
   "source": [
    "# Display information about the remaining movies\n",
    "print(\"Number of movies after filtering:\", len(title_basics))\n",
    "print(\"Title Basics Info:\")\n",
    "print(title_basics.info())"
   ]
  },
  {
   "cell_type": "code",
   "execution_count": 26,
   "id": "209ac2e5",
   "metadata": {},
   "outputs": [],
   "source": [
    "# Save the filtered dataframes to compressed CSV files in the \"Data/\" folder\n",
    "data_folder = \"C:/Users/MiPillay1/OneDrive - MMI HOLDINGS LTD/Documents/GitHub/Project_3-Data_Enrichment/Data/\"\n",
    "title_basics.to_csv(f\"{data_folder}filtered_title_basics.csv.gz\", sep='\\t', compression='gzip', index=False)"
   ]
  },
  {
   "cell_type": "code",
   "execution_count": 28,
   "id": "0d15abb0",
   "metadata": {},
   "outputs": [
    {
     "name": "stdout",
     "output_type": "stream",
     "text": [
      "Number of movies after filtering: 1472163\n",
      "Title Akas Info:\n",
      "<class 'pandas.core.frame.DataFrame'>\n",
      "Int64Index: 1472163 entries, 5 to 37516964\n",
      "Data columns (total 8 columns):\n",
      " #   Column           Non-Null Count    Dtype \n",
      "---  ------           --------------    ----- \n",
      " 0   titleId          1472163 non-null  object\n",
      " 1   ordering         1472163 non-null  int64 \n",
      " 2   title            1472163 non-null  object\n",
      " 3   region           1472163 non-null  object\n",
      " 4   language         1472163 non-null  object\n",
      " 5   types            1472163 non-null  object\n",
      " 6   attributes       1472163 non-null  object\n",
      " 7   isOriginalTitle  1472163 non-null  object\n",
      "dtypes: int64(1), object(7)\n",
      "memory usage: 101.1+ MB\n",
      "None\n"
     ]
    }
   ],
   "source": [
    "# Display information about the Title Akas\n",
    "print(\"Number of movies after filtering:\", len(title_akas))\n",
    "print(\"Title Akas Info:\")\n",
    "print(title_akas.info())"
   ]
  },
  {
   "cell_type": "code",
   "execution_count": 29,
   "id": "820ca38e",
   "metadata": {},
   "outputs": [
    {
     "name": "stdout",
     "output_type": "stream",
     "text": [
      "Number of movies after filtering: 1360168\n",
      "Title Ratings Info:\n",
      "<class 'pandas.core.frame.DataFrame'>\n",
      "RangeIndex: 1360168 entries, 0 to 1360167\n",
      "Data columns (total 3 columns):\n",
      " #   Column         Non-Null Count    Dtype  \n",
      "---  ------         --------------    -----  \n",
      " 0   tconst         1360168 non-null  object \n",
      " 1   averageRating  1360168 non-null  float64\n",
      " 2   numVotes       1360168 non-null  int64  \n",
      "dtypes: float64(1), int64(1), object(1)\n",
      "memory usage: 31.1+ MB\n",
      "None\n"
     ]
    }
   ],
   "source": [
    "# Display information about the Title Ratings\n",
    "print(\"Number of movies after filtering:\", len(title_ratings))\n",
    "print(\"Title Ratings Info:\")\n",
    "print(title_ratings.info())"
   ]
  },
  {
   "cell_type": "code",
   "execution_count": 30,
   "id": "1bc08505",
   "metadata": {},
   "outputs": [],
   "source": [
    "# Save the filtered dataframes to compressed CSV files in the \"Data/\" folder\n",
    "data_folder = \"C:/Users/MiPillay1/OneDrive - MMI HOLDINGS LTD/Documents/GitHub/Project_3-Data_Enrichment/Data/\"\n",
    "title_akas.to_csv(f\"{data_folder}filtered_title_akas.csv.gz\", sep='\\t', compression='gzip', index=False)"
   ]
  }
 ],
 "metadata": {
  "kernelspec": {
   "display_name": "Python (dojo-env)",
   "language": "python",
   "name": "dojo-env"
  },
  "language_info": {
   "codemirror_mode": {
    "name": "ipython",
    "version": 3
   },
   "file_extension": ".py",
   "mimetype": "text/x-python",
   "name": "python",
   "nbconvert_exporter": "python",
   "pygments_lexer": "ipython3",
   "version": "3.10.10"
  }
 },
 "nbformat": 4,
 "nbformat_minor": 5
}
