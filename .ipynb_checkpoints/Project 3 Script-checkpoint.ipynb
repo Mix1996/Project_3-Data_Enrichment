{
 "cells": [
  {
   "cell_type": "code",
   "execution_count": 2,
   "id": "5dd8c77f",
   "metadata": {},
   "outputs": [],
   "source": [
    "import pandas as pd\n",
    "import requests\n",
    "from io import BytesIO\n",
    "import gzip"
   ]
  },
  {
   "cell_type": "code",
   "execution_count": null,
   "id": "848d985a",
   "metadata": {},
   "outputs": [],
   "source": [
    "title_basics = pd.read_csv(\"C:/Users/MiPillay1/OneDrive - MMI HOLDINGS LTD/Documents/GitHub/Project_3-Data_Enrichment/Data/name.basics.tsv.gz\", sep='\\t', low_memory=False)\n",
    "title_ratings = pd.read_csv(\"C:/Users/MiPillay1/OneDrive - MMI HOLDINGS LTD/Documents/GitHub/Project_3-Data_Enrichment/Data/title.ratings.tsv.gz\", sep='\\t', low_memory=False)\n",
    "title_akas = pd.read_csv(\"C:/Users/MiPillay1/OneDrive - MMI HOLDINGS LTD/Documents/GitHub/Project_3-Data_Enrichment/Data/title.akas.tsv.gz\", sep='\\t', low_memory=False)"
   ]
  },
  {
   "cell_type": "code",
   "execution_count": null,
   "id": "8c6c2d43",
   "metadata": {},
   "outputs": [],
   "source": [
    "title_basics.head()"
   ]
  },
  {
   "cell_type": "code",
   "execution_count": null,
   "id": "4ad55447",
   "metadata": {},
   "outputs": [],
   "source": [
    "title_ratings.head()"
   ]
  },
  {
   "cell_type": "code",
   "execution_count": null,
   "id": "5deb46a8",
   "metadata": {},
   "outputs": [],
   "source": [
    "title_akas.head()"
   ]
  },
  {
   "cell_type": "code",
   "execution_count": null,
   "id": "9522fe29",
   "metadata": {},
   "outputs": [],
   "source": []
  }
 ],
 "metadata": {
  "kernelspec": {
   "display_name": "Python (dojo-env)",
   "language": "python",
   "name": "dojo-env"
  },
  "language_info": {
   "codemirror_mode": {
    "name": "ipython",
    "version": 3
   },
   "file_extension": ".py",
   "mimetype": "text/x-python",
   "name": "python",
   "nbconvert_exporter": "python",
   "pygments_lexer": "ipython3",
   "version": "3.10.10"
  }
 },
 "nbformat": 4,
 "nbformat_minor": 5
}
